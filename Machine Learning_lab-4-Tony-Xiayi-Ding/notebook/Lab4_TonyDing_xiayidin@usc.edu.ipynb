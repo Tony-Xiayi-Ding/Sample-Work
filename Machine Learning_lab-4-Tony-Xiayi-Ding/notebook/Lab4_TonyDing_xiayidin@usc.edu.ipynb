{
 "cells": [
  {
   "cell_type": "markdown",
   "metadata": {},
   "source": [
    "# Tony Ding's Lab4\n",
    "USC ID#:8961530140"
   ]
  },
  {
   "cell_type": "markdown",
   "metadata": {},
   "source": [
    "# (a)\n",
    "\n",
    "Download the YouTube Spam Collection data set from: https://archive.ics.\n",
    "uci.edu/ml/datasets/YouTube+Spam+Collection. We will mainly work with\n",
    "the Eminem file. Note that the chronological order of the comments were kept.\n",
    "(5 pts)"
   ]
  },
  {
   "cell_type": "markdown",
   "metadata": {},
   "source": [
    "# (b)\n",
    "\n",
    "Select the first floor(0.8H) of H hams and the first floor(0.8S) of S spams as your training\n",
    "set and the rest as your test set. (10 pts)"
   ]
  },
  {
   "cell_type": "code",
   "execution_count": 1,
   "metadata": {},
   "outputs": [],
   "source": [
    "import numpy as np\n",
    "import matplotlib.pyplot as plt\n",
    "import pandas as pd\n",
    "import math\n",
    "from sklearn.linear_model import LogisticRegression\n",
    "from sklearn.naive_bayes import GaussianNB\n",
    "from sklearn.naive_bayes import MultinomialNB\n",
    "from sklearn.feature_extraction.text import TfidfVectorizer\n",
    "from sklearn.model_selection import GridSearchCV\n",
    "from sklearn.metrics import precision_score\n",
    "from sklearn.metrics import classification_report\n",
    "from sklearn.metrics import f1_score\n",
    "from sklearn.metrics import recall_score\n",
    "from sklearn.metrics import confusion_matrix\n",
    "from sklearn.metrics import roc_auc_score, roc_curve\n",
    "from sklearn.metrics import fbeta_score\n"
   ]
  },
  {
   "cell_type": "code",
   "execution_count": 2,
   "metadata": {},
   "outputs": [
    {
     "data": {
      "text/html": [
       "<div>\n",
       "<style scoped>\n",
       "    .dataframe tbody tr th:only-of-type {\n",
       "        vertical-align: middle;\n",
       "    }\n",
       "\n",
       "    .dataframe tbody tr th {\n",
       "        vertical-align: top;\n",
       "    }\n",
       "\n",
       "    .dataframe thead th {\n",
       "        text-align: right;\n",
       "    }\n",
       "</style>\n",
       "<table border=\"1\" class=\"dataframe\">\n",
       "  <thead>\n",
       "    <tr style=\"text-align: right;\">\n",
       "      <th></th>\n",
       "      <th>COMMENT_ID</th>\n",
       "      <th>AUTHOR</th>\n",
       "      <th>DATE</th>\n",
       "      <th>CONTENT</th>\n",
       "      <th>CLASS</th>\n",
       "    </tr>\n",
       "  </thead>\n",
       "  <tbody>\n",
       "    <tr>\n",
       "      <th>0</th>\n",
       "      <td>z12rwfnyyrbsefonb232i5ehdxzkjzjs2</td>\n",
       "      <td>Lisa Wellas</td>\n",
       "      <td>NaN</td>\n",
       "      <td>+447935454150 lovely girl talk to me xxx﻿</td>\n",
       "      <td>1</td>\n",
       "    </tr>\n",
       "    <tr>\n",
       "      <th>1</th>\n",
       "      <td>z130wpnwwnyuetxcn23xf5k5ynmkdpjrj04</td>\n",
       "      <td>jason graham</td>\n",
       "      <td>2015-05-29T02:26:10.652000</td>\n",
       "      <td>I always end up coming back to this song&lt;br /&gt;﻿</td>\n",
       "      <td>0</td>\n",
       "    </tr>\n",
       "    <tr>\n",
       "      <th>2</th>\n",
       "      <td>z13vsfqirtavjvu0t22ezrgzyorwxhpf3</td>\n",
       "      <td>Ajkal Khan</td>\n",
       "      <td>NaN</td>\n",
       "      <td>my sister just received over 6,500 new &lt;a rel=...</td>\n",
       "      <td>1</td>\n",
       "    </tr>\n",
       "    <tr>\n",
       "      <th>3</th>\n",
       "      <td>z12wjzc4eprnvja4304cgbbizuved35wxcs</td>\n",
       "      <td>Dakota Taylor</td>\n",
       "      <td>2015-05-29T02:13:07.810000</td>\n",
       "      <td>Cool﻿</td>\n",
       "      <td>0</td>\n",
       "    </tr>\n",
       "    <tr>\n",
       "      <th>4</th>\n",
       "      <td>z13xjfr42z3uxdz2223gx5rrzs3dt5hna</td>\n",
       "      <td>Jihad Naser</td>\n",
       "      <td>NaN</td>\n",
       "      <td>Hello I&amp;#39;am from Palastine﻿</td>\n",
       "      <td>1</td>\n",
       "    </tr>\n",
       "    <tr>\n",
       "      <th>...</th>\n",
       "      <td>...</td>\n",
       "      <td>...</td>\n",
       "      <td>...</td>\n",
       "      <td>...</td>\n",
       "      <td>...</td>\n",
       "    </tr>\n",
       "    <tr>\n",
       "      <th>443</th>\n",
       "      <td>LneaDw26bFu3RCmyrWyP9S6wh1h9dBv3X95g1HzKAb4</td>\n",
       "      <td>Dany PK</td>\n",
       "      <td>NaN</td>\n",
       "      <td>SUBSCRIBE TO MY CHANNEL X PLEASE!. SPARE</td>\n",
       "      <td>1</td>\n",
       "    </tr>\n",
       "    <tr>\n",
       "      <th>444</th>\n",
       "      <td>LneaDw26bFsD65dtIvAEObWYIYnFTqQDKBek_Ypz3J8</td>\n",
       "      <td>SmexyFriedChicken</td>\n",
       "      <td>NaN</td>\n",
       "      <td>Check out my videos guy! :) Hope you guys had ...</td>\n",
       "      <td>1</td>\n",
       "    </tr>\n",
       "    <tr>\n",
       "      <th>445</th>\n",
       "      <td>LneaDw26bFuvs-8oWkLpAFa6g3QHpWD8k7sbbMP3Bg8</td>\n",
       "      <td>The Guy That's Done Everything</td>\n",
       "      <td>NaN</td>\n",
       "      <td>3 yrs ago I had a health scare but thankfully ...</td>\n",
       "      <td>1</td>\n",
       "    </tr>\n",
       "    <tr>\n",
       "      <th>446</th>\n",
       "      <td>z12hfp2wmyuqztkw504cgblyxtbsxjuzeow0k</td>\n",
       "      <td>Jesse Pinkman</td>\n",
       "      <td>2015-05-06T11:42:44.601000</td>\n",
       "      <td>Rihanna looks so beautiful with red hair ;)﻿</td>\n",
       "      <td>0</td>\n",
       "    </tr>\n",
       "    <tr>\n",
       "      <th>447</th>\n",
       "      <td>z13tsbc5vvn0hdozz04chjt51lq1cvris0k</td>\n",
       "      <td>Gaming Gaming</td>\n",
       "      <td>2015-05-06T10:56:35.972000</td>\n",
       "      <td>857.482.940 views AWESOME !!!!!!!!!!!!!!!!!!!!...</td>\n",
       "      <td>0</td>\n",
       "    </tr>\n",
       "  </tbody>\n",
       "</table>\n",
       "<p>448 rows × 5 columns</p>\n",
       "</div>"
      ],
      "text/plain": [
       "                                      COMMENT_ID  \\\n",
       "0              z12rwfnyyrbsefonb232i5ehdxzkjzjs2   \n",
       "1            z130wpnwwnyuetxcn23xf5k5ynmkdpjrj04   \n",
       "2              z13vsfqirtavjvu0t22ezrgzyorwxhpf3   \n",
       "3            z12wjzc4eprnvja4304cgbbizuved35wxcs   \n",
       "4              z13xjfr42z3uxdz2223gx5rrzs3dt5hna   \n",
       "..                                           ...   \n",
       "443  LneaDw26bFu3RCmyrWyP9S6wh1h9dBv3X95g1HzKAb4   \n",
       "444  LneaDw26bFsD65dtIvAEObWYIYnFTqQDKBek_Ypz3J8   \n",
       "445  LneaDw26bFuvs-8oWkLpAFa6g3QHpWD8k7sbbMP3Bg8   \n",
       "446        z12hfp2wmyuqztkw504cgblyxtbsxjuzeow0k   \n",
       "447          z13tsbc5vvn0hdozz04chjt51lq1cvris0k   \n",
       "\n",
       "                             AUTHOR                        DATE  \\\n",
       "0                       Lisa Wellas                         NaN   \n",
       "1                      jason graham  2015-05-29T02:26:10.652000   \n",
       "2                        Ajkal Khan                         NaN   \n",
       "3                     Dakota Taylor  2015-05-29T02:13:07.810000   \n",
       "4                       Jihad Naser                         NaN   \n",
       "..                              ...                         ...   \n",
       "443                         Dany PK                         NaN   \n",
       "444               SmexyFriedChicken                         NaN   \n",
       "445  The Guy That's Done Everything                         NaN   \n",
       "446                   Jesse Pinkman  2015-05-06T11:42:44.601000   \n",
       "447                   Gaming Gaming  2015-05-06T10:56:35.972000   \n",
       "\n",
       "                                               CONTENT  CLASS  \n",
       "0            +447935454150 lovely girl talk to me xxx﻿      1  \n",
       "1      I always end up coming back to this song<br />﻿      0  \n",
       "2    my sister just received over 6,500 new <a rel=...      1  \n",
       "3                                                Cool﻿      0  \n",
       "4                       Hello I&#39;am from Palastine﻿      1  \n",
       "..                                                 ...    ...  \n",
       "443           SUBSCRIBE TO MY CHANNEL X PLEASE!. SPARE      1  \n",
       "444  Check out my videos guy! :) Hope you guys had ...      1  \n",
       "445  3 yrs ago I had a health scare but thankfully ...      1  \n",
       "446       Rihanna looks so beautiful with red hair ;)﻿      0  \n",
       "447  857.482.940 views AWESOME !!!!!!!!!!!!!!!!!!!!...      0  \n",
       "\n",
       "[448 rows x 5 columns]"
      ]
     },
     "execution_count": 2,
     "metadata": {},
     "output_type": "execute_result"
    }
   ],
   "source": [
    "df = pd.read_csv('../data/YouTube-Spam-Collection-v1/Youtube04-Eminem.csv')\n",
    "df"
   ]
  },
  {
   "cell_type": "code",
   "execution_count": 3,
   "metadata": {},
   "outputs": [],
   "source": [
    "ham = df[df.CLASS == 0]\n",
    "spam = df[df.CLASS == 1]"
   ]
  },
  {
   "cell_type": "code",
   "execution_count": 4,
   "metadata": {},
   "outputs": [],
   "source": [
    "#get the total number of ham\n",
    "ham_count = ham.count()[0]"
   ]
  },
  {
   "cell_type": "code",
   "execution_count": 5,
   "metadata": {},
   "outputs": [],
   "source": [
    "#get the total number of spam\n",
    "spam_count = spam.count()[0]"
   ]
  },
  {
   "cell_type": "code",
   "execution_count": 6,
   "metadata": {},
   "outputs": [
    {
     "name": "stdout",
     "output_type": "stream",
     "text": [
      "The first 162 rows are train set for ham.\n",
      "The remaining 41 rows are test set for ham.\n",
      "The first 196 rows are train set for spam.\n",
      "The remaining 49 rows are test set for spam.\n"
     ]
    }
   ],
   "source": [
    "print(\"The first\",math.floor(ham_count*0.8),\"rows are train set for ham.\")\n",
    "print(\"The remaining\",ham_count-math.floor(ham_count*0.8),\"rows are test set for ham.\")\n",
    "print(\"The first\",math.floor(spam_count*0.8),\"rows are train set for spam.\")\n",
    "print(\"The remaining\",spam_count-math.floor(spam_count*0.8),\"rows are test set for spam.\")"
   ]
  },
  {
   "cell_type": "code",
   "execution_count": 7,
   "metadata": {},
   "outputs": [],
   "source": [
    "ham_train = ham.iloc[0:162]\n",
    "ham_test = ham.iloc[162:]\n",
    "spam_train = spam.iloc[0:196]\n",
    "spam_test = spam.iloc[196:]\n",
    "\n",
    "train = pd.concat([ham_train,spam_train])\n",
    "test = pd.concat([ham_test,spam_test])"
   ]
  },
  {
   "cell_type": "code",
   "execution_count": 8,
   "metadata": {},
   "outputs": [],
   "source": [
    "train_pre = train.iloc[:,3]\n",
    "train_y = train.iloc[:,4]\n",
    "test_pre = test.iloc[:,3]\n",
    "test_y = test.iloc[:,4]"
   ]
  },
  {
   "cell_type": "markdown",
   "metadata": {},
   "source": [
    "# (c)\n",
    "\n",
    "Represent each comment using TF-IDF features. Consider each comment a document and the whole set of comments in the file (e.g. Eminem) as the corpus.\n",
    "Do NOT remove stop words.\n",
    "(10 pts)"
   ]
  },
  {
   "cell_type": "code",
   "execution_count": 9,
   "metadata": {},
   "outputs": [],
   "source": [
    "corpus = []\n",
    "for i in range (df.shape[0]):\n",
    "    corpus.append(df.iloc[i,3])"
   ]
  },
  {
   "cell_type": "markdown",
   "metadata": {},
   "source": [
    "This gives us the corpus with all the comments."
   ]
  },
  {
   "cell_type": "code",
   "execution_count": 10,
   "metadata": {},
   "outputs": [],
   "source": [
    "vectorizer = TfidfVectorizer()\n",
    "\n",
    "train_x = vectorizer.fit_transform(train_pre)\n",
    "test_x = vectorizer.transform(test_pre)"
   ]
  },
  {
   "cell_type": "markdown",
   "metadata": {},
   "source": [
    "train_x and test_x are now represented in TF-IDF features here. "
   ]
  },
  {
   "cell_type": "markdown",
   "metadata": {},
   "source": [
    "# (d)  L2-penalized Logistic Regression\n",
    "\n",
    "(i) Determine λ using five fold cross-validation on your training set. Consider\n",
    "log10 λ ∈ {−5, −4, . . . , 5}. (5 pts)"
   ]
  },
  {
   "cell_type": "code",
   "execution_count": 11,
   "metadata": {},
   "outputs": [
    {
     "name": "stdout",
     "output_type": "stream",
     "text": [
      "The best λ, which is the inverse of C, to use here is 0.01\n"
     ]
    }
   ],
   "source": [
    "lgr = LogisticRegression()\n",
    "penalty = ['l2']\n",
    "c = [1/pow(10,i) for i in range (-5,6,1)]\n",
    "parameters = {\"C\":c,\n",
    "              \"penalty\": penalty,\n",
    "              \"solver\":['liblinear']}\n",
    "gridcv = GridSearchCV(lgr,parameters,cv = 5,n_jobs = -1)\n",
    "best_model = gridcv.fit(train_x,train_y)\n",
    "best_lambda_l2 = best_model.best_estimator_.get_params()['C']\n",
    "print(\"The best λ, which is the inverse of C, to use here is\",1/best_lambda_l2)"
   ]
  },
  {
   "cell_type": "markdown",
   "metadata": {},
   "source": [
    "# (d) (ii)\n",
    "\n",
    "Train L2-penalized Logistic Regression using the λ you found in 1(d)i. Calculate the confusion matrix, accuracy, precision, recall, and F1 score as well\n",
    "as the ROC curve and AUC for your training set. (10 pts)"
   ]
  },
  {
   "cell_type": "code",
   "execution_count": 12,
   "metadata": {},
   "outputs": [],
   "source": [
    "#lgr_l2 = LogisticRegression(penalty='l2',C = best_lambda_l2, n_jobs = -1).fit(train_x,train_y)"
   ]
  },
  {
   "cell_type": "code",
   "execution_count": 13,
   "metadata": {},
   "outputs": [
    {
     "name": "stdout",
     "output_type": "stream",
     "text": [
      "Confusion Matrix for training set with L2 penalty:\n",
      "[[162   0]\n",
      " [  0 196]]\n"
     ]
    }
   ],
   "source": [
    "train_pred_l2 = best_model.predict(train_x)\n",
    "\n",
    "print(\"Confusion Matrix for training set with L2 penalty:\")\n",
    "print(confusion_matrix(train_pred_l2,train_y))"
   ]
  },
  {
   "cell_type": "code",
   "execution_count": 14,
   "metadata": {},
   "outputs": [
    {
     "name": "stdout",
     "output_type": "stream",
     "text": [
      "              precision    recall  f1-score   support\n",
      "\n",
      "           0       1.00      1.00      1.00       162\n",
      "           1       1.00      1.00      1.00       196\n",
      "\n",
      "    accuracy                           1.00       358\n",
      "   macro avg       1.00      1.00      1.00       358\n",
      "weighted avg       1.00      1.00      1.00       358\n",
      "\n"
     ]
    }
   ],
   "source": [
    "print(classification_report(train_y,train_pred_l2))"
   ]
  },
  {
   "cell_type": "markdown",
   "metadata": {},
   "source": [
    "According to the above classification report, we know that the accuracy score is 1.00."
   ]
  },
  {
   "cell_type": "code",
   "execution_count": 15,
   "metadata": {},
   "outputs": [
    {
     "name": "stdout",
     "output_type": "stream",
     "text": [
      "Precision score for training set = 1.0000\n",
      "Recall score for training set = 1.0000\n",
      "F1-score for training set = 1.0000\n"
     ]
    }
   ],
   "source": [
    "precision_train_l2 = precision_score(train_y,train_pred_l2)\n",
    "print(\"Precision score for training set =\", format(precision_train_l2,'.4f'))\n",
    "\n",
    "recall_train_l2 = recall_score(train_y,train_pred_l2)\n",
    "print(\"Recall score for training set =\", format(recall_train_l2,'.4f'))\n",
    "\n",
    "f1_Score_train_l2 = f1_score(train_y,train_pred_l2)\n",
    "print(\"F1-score for training set =\", format(f1_Score_train_l2,'.4f'))"
   ]
  },
  {
   "cell_type": "code",
   "execution_count": 16,
   "metadata": {},
   "outputs": [
    {
     "name": "stdout",
     "output_type": "stream",
     "text": [
      "AUC for training set = 1.0000\n"
     ]
    }
   ],
   "source": [
    "fpr, tpr, _ = roc_curve(train_y,train_pred_l2,pos_label=1)\n",
    "logit_roc_auc_l2 = roc_auc_score(train_y,train_pred_l2)\n",
    "print(\"AUC for training set =\", format(logit_roc_auc_l2,'.4f'))\n"
   ]
  },
  {
   "cell_type": "code",
   "execution_count": 17,
   "metadata": {},
   "outputs": [
    {
     "name": "stdout",
     "output_type": "stream",
     "text": [
      "ROC curve for training set with L2 penalty:\n"
     ]
    },
    {
     "data": {
      "image/png": "[encoded data removed]",
      "text/plain": [
       "<Figure size 432x288 with 1 Axes>"
      ]
     },
     "metadata": {
      "needs_background": "light"
     },
     "output_type": "display_data"
    }
   ],
   "source": [
    "print(\"ROC curve for training set with L2 penalty:\")\n",
    "\n",
    "plt.figure()\n",
    "plt.plot(fpr,tpr,label='Logistic Regression (area=%0.4f)'%logit_roc_auc_l2)\n",
    "plt.plot([0, 1], [0, 1],'r--')\n",
    "plt.xlabel('False Positive Rate')\n",
    "plt.ylabel('True Positive Rate')\n",
    "plt.title('ROC_Train_l2')\n",
    "plt.legend(loc='lower right')\n",
    "plt.show()\n"
   ]
  },
  {
   "cell_type": "markdown",
   "metadata": {},
   "source": [
    "# (d) (iii)\n",
    "\n",
    "Test the algorithm on the test set and calculate the confusion matrix, accuracy, precision, recall, and F1 score as well as the ROC curve and AUC for\n",
    "the test set. Which one is more important in this application, precision or\n",
    "recall? Calculate Fβ score for β ∈ {0.1, 0.5, .9, 1, 5, 10}. (15 pts)"
   ]
  },
  {
   "cell_type": "code",
   "execution_count": 18,
   "metadata": {
    "scrolled": true
   },
   "outputs": [
    {
     "name": "stdout",
     "output_type": "stream",
     "text": [
      "Confusion Matrix for test set with L2 penalty:\n",
      "[[40  1]\n",
      " [ 1 48]]\n"
     ]
    }
   ],
   "source": [
    "test_pred_l2 = best_model.predict(test_x)\n",
    "\n",
    "print(\"Confusion Matrix for test set with L2 penalty:\")\n",
    "print(confusion_matrix(test_pred_l2,test_y))"
   ]
  },
  {
   "cell_type": "code",
   "execution_count": 19,
   "metadata": {},
   "outputs": [
    {
     "name": "stdout",
     "output_type": "stream",
     "text": [
      "              precision    recall  f1-score   support\n",
      "\n",
      "           0       0.98      0.98      0.98        41\n",
      "           1       0.98      0.98      0.98        49\n",
      "\n",
      "    accuracy                           0.98        90\n",
      "   macro avg       0.98      0.98      0.98        90\n",
      "weighted avg       0.98      0.98      0.98        90\n",
      "\n"
     ]
    }
   ],
   "source": [
    "print(classification_report(test_y,test_pred_l2))"
   ]
  },
  {
   "cell_type": "markdown",
   "metadata": {},
   "source": [
    "According to the above classification report, we know that the accuracy score is 0.98."
   ]
  },
  {
   "cell_type": "code",
   "execution_count": 20,
   "metadata": {},
   "outputs": [
    {
     "name": "stdout",
     "output_type": "stream",
     "text": [
      "Precision score for test set = 0.9796\n",
      "Recall score for test set = 0.9796\n",
      "F1-score for test set = 0.9796\n"
     ]
    }
   ],
   "source": [
    "precision_test_l2 = precision_score(test_y,test_pred_l2)\n",
    "print(\"Precision score for test set =\", format(precision_test_l2,'.4f'))\n",
    "\n",
    "recall_test_l2 = recall_score(test_y,test_pred_l2)\n",
    "print(\"Recall score for test set =\", format(recall_test_l2,'.4f'))\n",
    "\n",
    "f1_Score_test_l2 = f1_score(test_y,test_pred_l2)\n",
    "print(\"F1-score for test set =\", format(f1_Score_test_l2,'.4f'))"
   ]
  },
  {
   "cell_type": "code",
   "execution_count": 21,
   "metadata": {},
   "outputs": [
    {
     "name": "stdout",
     "output_type": "stream",
     "text": [
      "AUC for test set = 0.9776\n"
     ]
    }
   ],
   "source": [
    "fpr_2, tpr_2, _ = roc_curve(test_y,test_pred_l2,pos_label=1)\n",
    "logit_roc_auc_l2_test = roc_auc_score(test_y,test_pred_l2)\n",
    "print(\"AUC for test set =\", format(logit_roc_auc_l2_test,'.4f'))"
   ]
  },
  {
   "cell_type": "code",
   "execution_count": 22,
   "metadata": {},
   "outputs": [
    {
     "name": "stdout",
     "output_type": "stream",
     "text": [
      "ROC curve for test set with L2 penalty:\n"
     ]
    },
    {
     "data": {
      "image/png": "[encoded data removed]",
      "text/plain": [
       "<Figure size 432x288 with 1 Axes>"
      ]
     },
     "metadata": {
      "needs_background": "light"
     },
     "output_type": "display_data"
    }
   ],
   "source": [
    "print(\"ROC curve for test set with L2 penalty:\")\n",
    "\n",
    "plt.figure()\n",
    "plt.plot(fpr_2,tpr_2,label='Logistic Regression (area=%0.4f)'%logit_roc_auc_l2_test)\n",
    "plt.plot([0, 1], [0, 1],'r--')\n",
    "plt.xlabel('False Positive Rate')\n",
    "plt.ylabel('True Positive Rate')\n",
    "plt.title('ROC_Test_l2')\n",
    "plt.legend(loc='lower right')\n",
    "plt.show()\n"
   ]
  },
  {
   "cell_type": "markdown",
   "metadata": {},
   "source": [
    "Under this scenario, we tolerate more spam-recognized-as-ham than ham-recognized-as-spam, which means we prioritize having lower false positive rate. Hence, in this case, precision is more important than recall."
   ]
  },
  {
   "cell_type": "code",
   "execution_count": 23,
   "metadata": {},
   "outputs": [
    {
     "name": "stdout",
     "output_type": "stream",
     "text": [
      "F-beta score when beta is 0.1 equals to 0.979592\n",
      "F-beta score when beta is 0.5 equals to 0.979592\n",
      "F-beta score when beta is 0.9 equals to 0.979592\n",
      "F-beta score when beta is 1 equals to 0.979592\n",
      "F-beta score when beta is 5 equals to 0.979592\n",
      "F-beta score when beta is 10 equals to 0.979592\n"
     ]
    }
   ],
   "source": [
    "for i in [0.1,0.5,0.9,1,5,10]:\n",
    "    fbetascore = fbeta_score(test_y,test_pred_l2,beta = i)\n",
    "    print(\"F-beta score when beta is\",i,\"equals to\",format(fbetascore,'.6f'))\n"
   ]
  },
  {
   "cell_type": "markdown",
   "metadata": {},
   "source": [
    "# (e) L1-penalized Logistic Regression\n",
    "\n",
    "(i) Determine λ using five fold cross-validation on your training set. Consider\n",
    "log10 λ ∈ {−5, −4, . . . , 5}. (5 pts)"
   ]
  },
  {
   "cell_type": "code",
   "execution_count": 24,
   "metadata": {},
   "outputs": [
    {
     "name": "stdout",
     "output_type": "stream",
     "text": [
      "The best λ, which is the inverse of C, to use here is 0.0001\n"
     ]
    }
   ],
   "source": [
    "lgr = LogisticRegression()\n",
    "penalty = ['l1']\n",
    "c = [1/pow(10,i) for i in range (-5,6,1)]\n",
    "parameters = {\"C\":c,\n",
    "              \"penalty\": penalty,\n",
    "              \"solver\":['liblinear']}\n",
    "gridcv_l1 = GridSearchCV(lgr,parameters,cv = 5,n_jobs = -1)\n",
    "best_model_l1 = gridcv_l1.fit(train_x,train_y)\n",
    "best_lambda_l1 = best_model_l1.best_estimator_.get_params()['C']\n",
    "print(\"The best λ, which is the inverse of C, to use here is\",1/best_lambda_l1)"
   ]
  },
  {
   "cell_type": "markdown",
   "metadata": {},
   "source": [
    "FYI: Since there's some randomness to GridSearchCV sampling, the best C/lambda can vary among multiple executions of code, and the best C that I got actually includes 100, 1000, and 10000."
   ]
  },
  {
   "cell_type": "markdown",
   "metadata": {},
   "source": [
    "# (e) (ii)\n",
    "\n",
    "Train L1-penalized Logistic Regression using the λ you found in 1(e)i. Calculate the confusion matrix, accuracy, precision, recall, and F1 score as well\n",
    "as the ROC curve and AUC for your training set. (15 pts)"
   ]
  },
  {
   "cell_type": "code",
   "execution_count": 25,
   "metadata": {},
   "outputs": [],
   "source": [
    "#lgr_l1 = LogisticRegression(penalty='l1',C = best_lambda_l1, solver='liblinear').fit(train_x,train_y)"
   ]
  },
  {
   "cell_type": "code",
   "execution_count": 26,
   "metadata": {},
   "outputs": [
    {
     "name": "stdout",
     "output_type": "stream",
     "text": [
      "Confusion Matrix for training set with L1 penalty:\n",
      "[[162   0]\n",
      " [  0 196]]\n"
     ]
    }
   ],
   "source": [
    "train_pred_l1 = best_model_l1.predict(train_x)\n",
    "\n",
    "print(\"Confusion Matrix for training set with L1 penalty:\")\n",
    "print(confusion_matrix(train_pred_l1,train_y))"
   ]
  },
  {
   "cell_type": "code",
   "execution_count": 27,
   "metadata": {},
   "outputs": [
    {
     "name": "stdout",
     "output_type": "stream",
     "text": [
      "              precision    recall  f1-score   support\n",
      "\n",
      "           0       1.00      1.00      1.00       162\n",
      "           1       1.00      1.00      1.00       196\n",
      "\n",
      "    accuracy                           1.00       358\n",
      "   macro avg       1.00      1.00      1.00       358\n",
      "weighted avg       1.00      1.00      1.00       358\n",
      "\n"
     ]
    }
   ],
   "source": [
    "print(classification_report(train_y,train_pred_l1))"
   ]
  },
  {
   "cell_type": "markdown",
   "metadata": {},
   "source": [
    "According to the above classification report, we know that the accuracy score is 1.00."
   ]
  },
  {
   "cell_type": "code",
   "execution_count": 28,
   "metadata": {},
   "outputs": [
    {
     "name": "stdout",
     "output_type": "stream",
     "text": [
      "Precision score for training set = 1.0000\n",
      "Recall score for training set = 1.0000\n",
      "F1-score for training set = 1.0000\n"
     ]
    }
   ],
   "source": [
    "precision_train_l1 = precision_score(train_y,train_pred_l1)\n",
    "print(\"Precision score for training set =\", format(precision_train_l1,'.4f'))\n",
    "\n",
    "recall_train_l1 = recall_score(train_y,train_pred_l1)\n",
    "print(\"Recall score for training set =\", format(recall_train_l1,'.4f'))\n",
    "\n",
    "f1_Score_train_l1 = f1_score(train_y,train_pred_l1)\n",
    "print(\"F1-score for training set =\", format(f1_Score_train_l1,'.4f'))"
   ]
  },
  {
   "cell_type": "code",
   "execution_count": 29,
   "metadata": {},
   "outputs": [
    {
     "name": "stdout",
     "output_type": "stream",
     "text": [
      "AUC for training set = 1.0000\n"
     ]
    }
   ],
   "source": [
    "fpr_3, tpr_3, _ = roc_curve(train_y,train_pred_l1,pos_label=1)\n",
    "logit_roc_auc_l1 = roc_auc_score(train_y,train_pred_l1)\n",
    "print(\"AUC for training set =\", format(logit_roc_auc_l1,'.4f'))\n"
   ]
  },
  {
   "cell_type": "code",
   "execution_count": 30,
   "metadata": {},
   "outputs": [
    {
     "name": "stdout",
     "output_type": "stream",
     "text": [
      "ROC curve for training set with L1 penalty:\n"
     ]
    },
    {
     "data": {
      "image/png": "[encoded data removed]",
      "text/plain": [
       "<Figure size 432x288 with 1 Axes>"
      ]
     },
     "metadata": {
      "needs_background": "light"
     },
     "output_type": "display_data"
    }
   ],
   "source": [
    "print(\"ROC curve for training set with L1 penalty:\")\n",
    "\n",
    "plt.figure()\n",
    "plt.plot(fpr_3,tpr_3,label='Logistic Regression (area=%0.4f)'%logit_roc_auc_l1)\n",
    "plt.plot([0, 1], [0, 1],'r--')\n",
    "plt.xlabel('False Positive Rate')\n",
    "plt.ylabel('True Positive Rate')\n",
    "plt.title('ROC_Train_l1')\n",
    "plt.legend(loc='lower right')\n",
    "plt.show()\n"
   ]
  },
  {
   "cell_type": "markdown",
   "metadata": {},
   "source": [
    "# (e) (iii)\n",
    "\n",
    "Test the algorithm on the test set and calculate the confusion matrix, accuracy, precision, recall, and F1 score as well as the ROC curve and AUC for\n",
    "the test set. (10 pts)"
   ]
  },
  {
   "cell_type": "code",
   "execution_count": 31,
   "metadata": {},
   "outputs": [
    {
     "name": "stdout",
     "output_type": "stream",
     "text": [
      "Confusion Matrix for test set with L1 penalty:\n",
      "[[40  1]\n",
      " [ 1 48]]\n"
     ]
    }
   ],
   "source": [
    "test_pred_l1 = best_model_l1.predict(test_x)\n",
    "\n",
    "print(\"Confusion Matrix for test set with L1 penalty:\")\n",
    "print(confusion_matrix(test_pred_l1,test_y))"
   ]
  },
  {
   "cell_type": "code",
   "execution_count": 32,
   "metadata": {},
   "outputs": [
    {
     "name": "stdout",
     "output_type": "stream",
     "text": [
      "              precision    recall  f1-score   support\n",
      "\n",
      "           0       0.98      0.98      0.98        41\n",
      "           1       0.98      0.98      0.98        49\n",
      "\n",
      "    accuracy                           0.98        90\n",
      "   macro avg       0.98      0.98      0.98        90\n",
      "weighted avg       0.98      0.98      0.98        90\n",
      "\n"
     ]
    }
   ],
   "source": [
    "print(classification_report(test_y,test_pred_l1))"
   ]
  },
  {
   "cell_type": "markdown",
   "metadata": {},
   "source": [
    "According to the above classification report, we know that the accuracy score is 0.96."
   ]
  },
  {
   "cell_type": "code",
   "execution_count": 33,
   "metadata": {},
   "outputs": [
    {
     "name": "stdout",
     "output_type": "stream",
     "text": [
      "Precision score for test set = 0.9796\n",
      "Recall score for test set = 0.9796\n",
      "F1-score for test set = 0.9796\n"
     ]
    }
   ],
   "source": [
    "precision_test_l1 = precision_score(test_y,test_pred_l1)\n",
    "print(\"Precision score for test set =\", format(precision_test_l1,'.4f'))\n",
    "\n",
    "recall_test_l1 = recall_score(test_y,test_pred_l1)\n",
    "print(\"Recall score for test set =\", format(recall_test_l1,'.4f'))\n",
    "\n",
    "f1_Score_test_l1 = f1_score(test_y,test_pred_l1)\n",
    "print(\"F1-score for test set =\", format(f1_Score_test_l1,'.4f'))"
   ]
  },
  {
   "cell_type": "code",
   "execution_count": 34,
   "metadata": {},
   "outputs": [
    {
     "name": "stdout",
     "output_type": "stream",
     "text": [
      "AUC for test set = 0.9776\n"
     ]
    }
   ],
   "source": [
    "fpr_4, tpr_4, _ = roc_curve(test_y,test_pred_l1,pos_label=1)\n",
    "logit_roc_auc_l1_test = roc_auc_score(test_y,test_pred_l1)\n",
    "print(\"AUC for test set =\", format(logit_roc_auc_l1_test,'.4f'))"
   ]
  },
  {
   "cell_type": "code",
   "execution_count": 35,
   "metadata": {},
   "outputs": [
    {
     "name": "stdout",
     "output_type": "stream",
     "text": [
      "ROC curve for test set with L1 penalty:\n"
     ]
    },
    {
     "data": {
      "image/png": "[encoded data removed]",
      "text/plain": [
       "<Figure size 432x288 with 1 Axes>"
      ]
     },
     "metadata": {
      "needs_background": "light"
     },
     "output_type": "display_data"
    }
   ],
   "source": [
    "print(\"ROC curve for test set with L1 penalty:\")\n",
    "\n",
    "plt.figure()\n",
    "plt.plot(fpr_4,tpr_4,label='Logistic Regression (area=%0.4f)'%logit_roc_auc_l1_test)\n",
    "plt.plot([0, 1], [0, 1],'r--')\n",
    "plt.xlabel('False Positive Rate')\n",
    "plt.ylabel('True Positive Rate')\n",
    "plt.title('ROC_Test_l1')\n",
    "plt.legend(loc='lower right')\n",
    "plt.show()"
   ]
  },
  {
   "cell_type": "markdown",
   "metadata": {},
   "source": [
    "# (f) Binary Classification Using Naive Bayes’ Classifiers\n",
    "\n",
    "i. Solve the problem using a Naive Bayes’ classifier. Use Gaussian class conditional distributions. Report the confusion matrix, ROC, precision, recall, F1\n",
    "score, and AUC for both the train and test data sets. (15 pts)"
   ]
  },
  {
   "cell_type": "code",
   "execution_count": 36,
   "metadata": {},
   "outputs": [
    {
     "data": {
      "text/plain": [
       "GaussianNB()"
      ]
     },
     "execution_count": 36,
     "metadata": {},
     "output_type": "execute_result"
    }
   ],
   "source": [
    "gnb = GaussianNB()\n",
    "gnb.fit(train_x.toarray(),train_y)"
   ]
  },
  {
   "cell_type": "code",
   "execution_count": 37,
   "metadata": {},
   "outputs": [],
   "source": [
    "y_train_gnb = gnb.predict(train_x.toarray())\n",
    "y_test_gnb = gnb.predict(test_x.toarray())"
   ]
  },
  {
   "cell_type": "code",
   "execution_count": 38,
   "metadata": {},
   "outputs": [
    {
     "name": "stdout",
     "output_type": "stream",
     "text": [
      "Confusion Matrix for training set:\n",
      "[[162   1]\n",
      " [  0 195]]\n"
     ]
    }
   ],
   "source": [
    "print(\"Confusion Matrix for training set:\")\n",
    "print(confusion_matrix(y_train_gnb,train_y))"
   ]
  },
  {
   "cell_type": "code",
   "execution_count": 39,
   "metadata": {},
   "outputs": [
    {
     "name": "stdout",
     "output_type": "stream",
     "text": [
      "Confusion Matrix for test set:\n",
      "[[35  1]\n",
      " [ 6 48]]\n"
     ]
    }
   ],
   "source": [
    "print(\"Confusion Matrix for test set:\")\n",
    "print(confusion_matrix(y_test_gnb,test_y))"
   ]
  },
  {
   "cell_type": "code",
   "execution_count": 40,
   "metadata": {},
   "outputs": [
    {
     "name": "stdout",
     "output_type": "stream",
     "text": [
      "Precision score for training set = 1.0000\n",
      "Recall score for training set = 0.9949\n",
      "F1-score for training set = 0.9974\n"
     ]
    }
   ],
   "source": [
    "precision_train_gnb = precision_score(train_y,y_train_gnb)\n",
    "print(\"Precision score for training set =\", format(precision_train_gnb,'.4f'))\n",
    "\n",
    "recall_train_gnb = recall_score(train_y,y_train_gnb)\n",
    "print(\"Recall score for training set =\", format(recall_train_gnb,'.4f'))\n",
    "\n",
    "f1_Score_train_gnb = f1_score(train_y,y_train_gnb)\n",
    "print(\"F1-score for training set =\", format(f1_Score_train_gnb,'.4f'))"
   ]
  },
  {
   "cell_type": "code",
   "execution_count": 41,
   "metadata": {},
   "outputs": [
    {
     "name": "stdout",
     "output_type": "stream",
     "text": [
      "Precision score for test set = 0.8889\n",
      "Recall score for test set = 0.9796\n",
      "F1-score for test set = 0.9320\n"
     ]
    }
   ],
   "source": [
    "precision_test_gnb = precision_score(test_y,y_test_gnb)\n",
    "print(\"Precision score for test set =\", format(precision_test_gnb,'.4f'))\n",
    "\n",
    "recall_test_gnb = recall_score(test_y,y_test_gnb)\n",
    "print(\"Recall score for test set =\", format(recall_test_gnb,'.4f'))\n",
    "\n",
    "f1_Score_test_gnb = f1_score(test_y,y_test_gnb)\n",
    "print(\"F1-score for test set =\", format(f1_Score_test_gnb,'.4f'))"
   ]
  },
  {
   "cell_type": "code",
   "execution_count": 42,
   "metadata": {},
   "outputs": [
    {
     "name": "stdout",
     "output_type": "stream",
     "text": [
      "AUC for training set = 0.9974\n"
     ]
    }
   ],
   "source": [
    "fpr_nb, tpr_nb, _ = roc_curve(train_y,y_train_gnb,pos_label=1)\n",
    "logit_roc_auc_nb = roc_auc_score(train_y,y_train_gnb)\n",
    "print(\"AUC for training set =\", format(logit_roc_auc_nb,'.4f'))"
   ]
  },
  {
   "cell_type": "code",
   "execution_count": 43,
   "metadata": {},
   "outputs": [
    {
     "name": "stdout",
     "output_type": "stream",
     "text": [
      "ROC curve for training set using Naive Bayes':\n"
     ]
    },
    {
     "data": {
      "image/png": "[encoded data removed]",
      "text/plain": [
       "<Figure size 432x288 with 1 Axes>"
      ]
     },
     "metadata": {
      "needs_background": "light"
     },
     "output_type": "display_data"
    }
   ],
   "source": [
    "print(\"ROC curve for training set using Naive Bayes\\':\")\n",
    "\n",
    "plt.figure()\n",
    "plt.plot(fpr_nb,tpr_nb,label='Naive Bayes\\' (area=%0.4f)'%logit_roc_auc_nb)\n",
    "plt.plot([0, 1], [0, 1],'r--')\n",
    "plt.xlabel('False Positive Rate')\n",
    "plt.ylabel('True Positive Rate')\n",
    "plt.title('ROC_Train')\n",
    "plt.legend(loc='lower right')\n",
    "plt.show()\n"
   ]
  },
  {
   "cell_type": "code",
   "execution_count": 44,
   "metadata": {},
   "outputs": [
    {
     "name": "stdout",
     "output_type": "stream",
     "text": [
      "AUC for test set = 0.9166\n"
     ]
    }
   ],
   "source": [
    "fpr2_nb, tpr2_nb, _ = roc_curve(test_y,y_test_gnb,pos_label=1)\n",
    "logit_roc_auc2_nb = roc_auc_score(test_y,y_test_gnb)\n",
    "print(\"AUC for test set =\", format(logit_roc_auc2_nb,'.4f'))"
   ]
  },
  {
   "cell_type": "code",
   "execution_count": 45,
   "metadata": {},
   "outputs": [
    {
     "name": "stdout",
     "output_type": "stream",
     "text": [
      "ROC curve for test set using Naive Bayes':\n"
     ]
    },
    {
     "data": {
      "image/png": "[encoded data removed]",
      "text/plain": [
       "<Figure size 432x288 with 1 Axes>"
      ]
     },
     "metadata": {
      "needs_background": "light"
     },
     "output_type": "display_data"
    }
   ],
   "source": [
    "print(\"ROC curve for test set using Naive Bayes\\':\")\n",
    "\n",
    "plt.figure()\n",
    "plt.plot(fpr2_nb,tpr2_nb,label='Naive Bayes\\' (area=%0.4f)'%logit_roc_auc2_nb)\n",
    "plt.plot([0, 1], [0, 1],'r--')\n",
    "plt.xlabel('False Positive Rate')\n",
    "plt.ylabel('True Positive Rate')\n",
    "plt.title('ROC_Test')\n",
    "plt.legend(loc='lower right')\n",
    "plt.show()"
   ]
  },
  {
   "cell_type": "markdown",
   "metadata": {},
   "source": [
    "# (g) \n",
    "\n",
    "(Extra Credit, 5 points) Repeat 1(f)i using multinomial priors."
   ]
  },
  {
   "cell_type": "code",
   "execution_count": 46,
   "metadata": {},
   "outputs": [
    {
     "data": {
      "text/plain": [
       "MultinomialNB()"
      ]
     },
     "execution_count": 46,
     "metadata": {},
     "output_type": "execute_result"
    }
   ],
   "source": [
    "mnb = MultinomialNB()\n",
    "mnb.fit(train_x,train_y)"
   ]
  },
  {
   "cell_type": "code",
   "execution_count": 47,
   "metadata": {},
   "outputs": [],
   "source": [
    "y_train_mnb = mnb.predict(train_x)\n",
    "y_test_mnb = mnb.predict(test_x)"
   ]
  },
  {
   "cell_type": "code",
   "execution_count": 48,
   "metadata": {},
   "outputs": [
    {
     "name": "stdout",
     "output_type": "stream",
     "text": [
      "Confusion Matrix for training set:\n",
      "[[155   1]\n",
      " [  7 195]]\n"
     ]
    }
   ],
   "source": [
    "print(\"Confusion Matrix for training set:\")\n",
    "print(confusion_matrix(y_train_mnb,train_y))"
   ]
  },
  {
   "cell_type": "code",
   "execution_count": 49,
   "metadata": {},
   "outputs": [
    {
     "name": "stdout",
     "output_type": "stream",
     "text": [
      "Confusion Matrix for test set:\n",
      "[[32  0]\n",
      " [ 9 49]]\n"
     ]
    }
   ],
   "source": [
    "print(\"Confusion Matrix for test set:\")\n",
    "print(confusion_matrix(y_test_mnb,test_y))"
   ]
  },
  {
   "cell_type": "code",
   "execution_count": 50,
   "metadata": {},
   "outputs": [
    {
     "name": "stdout",
     "output_type": "stream",
     "text": [
      "Precision score for training set = 0.9653\n",
      "Recall score for training set = 0.9949\n",
      "F1-score for training set = 0.9799\n"
     ]
    }
   ],
   "source": [
    "precision_train_mnb = precision_score(train_y,y_train_mnb)\n",
    "print(\"Precision score for training set =\", format(precision_train_mnb,'.4f'))\n",
    "\n",
    "recall_train_mnb = recall_score(train_y,y_train_mnb)\n",
    "print(\"Recall score for training set =\", format(recall_train_mnb,'.4f'))\n",
    "\n",
    "f1_Score_train_mnb = f1_score(train_y,y_train_mnb)\n",
    "print(\"F1-score for training set =\", format(f1_Score_train_mnb,'.4f'))"
   ]
  },
  {
   "cell_type": "code",
   "execution_count": 51,
   "metadata": {},
   "outputs": [
    {
     "name": "stdout",
     "output_type": "stream",
     "text": [
      "Precision score for test set = 0.8448\n",
      "Recall score for test set = 1.0000\n",
      "F1-score for test set = 0.9159\n"
     ]
    }
   ],
   "source": [
    "precision_test_mnb = precision_score(test_y,y_test_mnb)\n",
    "print(\"Precision score for test set =\", format(precision_test_mnb,'.4f'))\n",
    "\n",
    "recall_test_mnb = recall_score(test_y,y_test_mnb)\n",
    "print(\"Recall score for test set =\", format(recall_test_mnb,'.4f'))\n",
    "\n",
    "f1_Score_test_mnb = f1_score(test_y,y_test_mnb)\n",
    "print(\"F1-score for test set =\", format(f1_Score_test_mnb,'.4f'))"
   ]
  },
  {
   "cell_type": "code",
   "execution_count": 52,
   "metadata": {},
   "outputs": [
    {
     "name": "stdout",
     "output_type": "stream",
     "text": [
      "AUC for training set = 0.9758\n"
     ]
    }
   ],
   "source": [
    "fpr_mnb, tpr_mnb, _ = roc_curve(train_y,y_train_mnb,pos_label=1)\n",
    "logit_roc_auc_mnb = roc_auc_score(train_y,y_train_mnb)\n",
    "print(\"AUC for training set =\", format(logit_roc_auc_mnb,'.4f'))"
   ]
  },
  {
   "cell_type": "code",
   "execution_count": 53,
   "metadata": {},
   "outputs": [
    {
     "name": "stdout",
     "output_type": "stream",
     "text": [
      "ROC curve for training set using multinomial priors:\n"
     ]
    },
    {
     "data": {
      "image/png": "[encoded data removed]",
      "text/plain": [
       "<Figure size 432x288 with 1 Axes>"
      ]
     },
     "metadata": {
      "needs_background": "light"
     },
     "output_type": "display_data"
    }
   ],
   "source": [
    "print(\"ROC curve for training set using multinomial priors:\")\n",
    "\n",
    "plt.figure()\n",
    "plt.plot(fpr_mnb,tpr_mnb,label='Naive Bayes\\' w/Multinomial priors (area=%0.4f)'%logit_roc_auc_mnb)\n",
    "plt.plot([0, 1], [0, 1],'r--')\n",
    "plt.xlabel('False Positive Rate')\n",
    "plt.ylabel('True Positive Rate')\n",
    "plt.title('ROC_Train')\n",
    "plt.legend(loc='lower right')\n",
    "plt.show()"
   ]
  },
  {
   "cell_type": "code",
   "execution_count": 54,
   "metadata": {},
   "outputs": [
    {
     "name": "stdout",
     "output_type": "stream",
     "text": [
      "AUC for test set = 0.8902\n"
     ]
    }
   ],
   "source": [
    "fpr2_mnb, tpr2_mnb, _ = roc_curve(test_y,y_test_mnb,pos_label=1)\n",
    "logit_roc_auc2_mnb = roc_auc_score(test_y,y_test_mnb)\n",
    "print(\"AUC for test set =\", format(logit_roc_auc2_mnb,'.4f'))"
   ]
  },
  {
   "cell_type": "code",
   "execution_count": 55,
   "metadata": {},
   "outputs": [
    {
     "name": "stdout",
     "output_type": "stream",
     "text": [
      "ROC curve for test set using multinomial priors:\n"
     ]
    },
    {
     "data": {
      "image/png": "[encoded data removed]",
      "text/plain": [
       "<Figure size 432x288 with 1 Axes>"
      ]
     },
     "metadata": {
      "needs_background": "light"
     },
     "output_type": "display_data"
    }
   ],
   "source": [
    "print(\"ROC curve for test set using multinomial priors:\")\n",
    "\n",
    "plt.figure()\n",
    "plt.plot(fpr2_mnb,tpr2_mnb,label='Naive Bayes\\' w/Multinomial priors (area=%0.4f)'%logit_roc_auc2_mnb)\n",
    "plt.plot([0, 1], [0, 1],'r--')\n",
    "plt.xlabel('False Positive Rate')\n",
    "plt.ylabel('True Positive Rate')\n",
    "plt.title('ROC_Test')\n",
    "plt.legend(loc='lower right')\n",
    "plt.show()"
   ]
  },
  {
   "cell_type": "markdown",
   "metadata": {},
   "source": [
    "# References\n",
    "\n",
    "1.Discussion 10 (04/02/2021) Link: https://usc.zoom.us/rec/share/By5vcsnPNUmd05R1oG84yRZG0ex_DiRP2IZuRkcFlLMkM3BRkTERTIypasg9jX4x.geksDwlcuIZrH4Fa\n",
    "\n",
    "2.For calculating F-Beta scores:\n",
    "https://scikit-learn.org/stable/modules/generated/sklearn.metrics.fbeta_score.html"
   ]
  }
 ],
 "metadata": {
  "kernelspec": {
   "display_name": "Python 3",
   "language": "python",
   "name": "python3"
  },
  "language_info": {
   "codemirror_mode": {
    "name": "ipython",
    "version": 3
   },
   "file_extension": ".py",
   "mimetype": "text/x-python",
   "name": "python",
   "nbconvert_exporter": "python",
   "pygments_lexer": "ipython3",
   "version": "3.8.5"
  }
 },
 "nbformat": 4,
 "nbformat_minor": 4
}
